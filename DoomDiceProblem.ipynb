{
  "nbformat": 4,
  "nbformat_minor": 0,
  "metadata": {
    "colab": {
      "provenance": [],
      "authorship_tag": "ABX9TyPc/m5aNNHwa9IH+q4tj/Mt",
      "include_colab_link": true
    },
    "kernelspec": {
      "name": "python3",
      "display_name": "Python 3"
    },
    "language_info": {
      "name": "python"
    }
  },
  "cells": [
    {
      "cell_type": "markdown",
      "metadata": {
        "id": "view-in-github",
        "colab_type": "text"
      },
      "source": [
        "<a href=\"https://colab.research.google.com/github/GnaneshVS/Project-or-Problems/blob/main/DoomDiceProblem.ipynb\" target=\"_parent\"><img src=\"https://colab.research.google.com/assets/colab-badge.svg\" alt=\"Open In Colab\"/></a>"
      ]
    },
    {
      "cell_type": "code",
      "source": [],
      "metadata": {
        "id": "r2oegCLW7fp6"
      },
      "execution_count": null,
      "outputs": []
    },
    {
      "cell_type": "code",
      "execution_count": 13,
      "metadata": {
        "colab": {
          "base_uri": "https://localhost:8080/",
          "height": 673
        },
        "id": "rbsP7vCO6OCD",
        "outputId": "a39d8947-db14-4731-821d-e42b090d7021"
      },
      "outputs": [
        {
          "output_type": "stream",
          "name": "stdout",
          "text": [
            "THE SAMPLE SPACE OF A ORDINAY 2 DICE\n",
            "[[1 1 1 2 1 3 1 4 1 5 1 6]\n",
            " [2 1 2 2 2 3 2 4 2 5 2 6]\n",
            " [3 1 3 2 3 3 3 4 3 5 3 6]\n",
            " [4 1 4 2 4 3 4 4 4 5 4 6]\n",
            " [5 1 5 2 5 3 5 4 5 5 5 6]\n",
            " [6 1 6 2 6 3 6 4 6 5 6 6]]\n",
            "THE SUM OF THE TWO THROWS\n",
            "[[ 2  3  4  5  6  7]\n",
            " [ 3  4  5  6  7  8]\n",
            " [ 4  5  6  7  8  9]\n",
            " [ 5  6  7  8  9 10]\n",
            " [ 6  7  8  9 10 11]\n",
            " [ 7  8  9 10 11 12]]\n"
          ]
        },
        {
          "output_type": "display_data",
          "data": {
            "text/plain": [
              "<Figure size 640x480 with 1 Axes>"
            ],
            "image/png": "[encoded data removed]"
          },
          "metadata": {}
        }
      ],
      "source": [
        "from typing import ItemsView\n",
        "import numpy as np\n",
        "import matplotlib.pyplot as plt\n",
        "\n",
        "diceNum=2       # number of dices\n",
        "ss = 6**diceNum # number of elements of the sample space: throw n dices and write points of each dice. (n**N)\n",
        "\n",
        "diceSum = []\n",
        "diceThrow = []\n",
        "\n",
        "nn=0 # to count the number of elements\n",
        "\n",
        "# 2 for loops for each dice\n",
        "\n",
        "\n",
        "for i in range(6):\n",
        "  for j in range(6):\n",
        "    dices = [i+1,j+1]   # Result of throw the 3 dices\n",
        "    diceThrow.append(dices) # Sample space\n",
        "    diceSum.append(sum(diceThrow[nn])) #Sum each element of the sample space\n",
        "    nn=nn+1\n",
        "\n",
        "matrixThrow=np.asmatrix(diceThrow).reshape(6,12)\n",
        "matrixSum=np.asmatrix(diceSum).reshape(6,6)\n",
        "\n",
        "print(\"THE SAMPLE SPACE OF A ORDINAY 2 DICE\")\n",
        "print(matrixThrow)\n",
        "print(\"THE SUM OF THE TWO THROWS\")\n",
        "print(matrixSum)\n",
        "\n",
        "# Make a histogram with the sum of each element of the sample space\n",
        "plt.hist(diceSum, bins = ss)\n",
        "plt.grid()\n",
        "plt.show()\n"
      ]
    }
  ]
}